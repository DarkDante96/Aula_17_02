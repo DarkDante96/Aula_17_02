{
  "nbformat": 4,
  "nbformat_minor": 0,
  "metadata": {
    "colab": {
      "provenance": [],
      "authorship_tag": "ABX9TyPvfUEKNuDFELRyhsJ4yzrN",
      "include_colab_link": true
    },
    "kernelspec": {
      "name": "python3",
      "display_name": "Python 3"
    },
    "language_info": {
      "name": "python"
    }
  },
  "cells": [
    {
      "cell_type": "markdown",
      "metadata": {
        "id": "view-in-github",
        "colab_type": "text"
      },
      "source": [
        "<a href=\"https://colab.research.google.com/github/DarkDante96/Aula_17_02/blob/main/Exercicio1.ipynb\" target=\"_parent\"><img src=\"https://colab.research.google.com/assets/colab-badge.svg\" alt=\"Open In Colab\"/></a>"
      ]
    },
    {
      "cell_type": "code",
      "execution_count": 15,
      "metadata": {
        "colab": {
          "base_uri": "https://localhost:8080/"
        },
        "id": "sRouE-QPhs8S",
        "outputId": "86bfe6c7-10d9-48bc-9527-167c6144fdad"
      },
      "outputs": [
        {
          "output_type": "stream",
          "name": "stdout",
          "text": [
            "3\n",
            "6\n",
            "1.5 2.5 3.0 2.25\n"
          ]
        }
      ],
      "source": [
        "x=3\n",
        "print(x)\n",
        "x*=2\n",
        "print(x)\n",
        "x==4\n",
        "print(y, y+1, y*2, y **2)"
      ]
    }
  ]
}